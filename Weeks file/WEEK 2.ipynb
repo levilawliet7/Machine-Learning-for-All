{
 "cells": [
  {
   "cell_type": "markdown",
   "id": "3c5d6b56",
   "metadata": {},
   "source": [
    "# Lesson 2.1"
   ]
  },
  {
   "cell_type": "markdown",
   "id": "c294a94a",
   "metadata": {},
   "source": [
    "1. Data representation in bits"
   ]
  },
  {
   "cell_type": "markdown",
   "id": "209e7e30",
   "metadata": {},
   "source": [
    "Its very intersting to think how music we play on computers plays really. According to professor all data are in 0 and 1 form but how does computers changes 0 and 1 to bits and then its gives output as sounds. "
   ]
  },
  {
   "cell_type": "markdown",
   "id": "c6a30408",
   "metadata": {},
   "source": [
    "# Lesson 2.2"
   ]
  },
  {
   "cell_type": "markdown",
   "id": "d43d7b04",
   "metadata": {},
   "source": [
    "1. Data features"
   ]
  },
  {
   "cell_type": "markdown",
   "id": "0601e954",
   "metadata": {},
   "source": [
    "Two types of data will be pictures and music.\n",
    "\n",
    "1. How would each be represented? \n",
    "\n",
    "Both are represented in bytes/bits. \n",
    "\n",
    "2. What are the differences? \n",
    "\n",
    "But there will be Significance difference between both data like music will use vibration to make data while pictures will use pixels.\n",
    "\n",
    "3. Is the representation useful for machine learning?\n",
    "\n",
    "yes."
   ]
  },
  {
   "cell_type": "markdown",
   "id": "4260f473",
   "metadata": {},
   "source": [
    "2. Bag of Words"
   ]
  },
  {
   "cell_type": "markdown",
   "id": "b3332b27",
   "metadata": {},
   "source": [
    "Question 1\n",
    "\n",
    "In this quiz, I would like you to find out about a particular type of feature used in machine learning. That feature is called \"bag of words\". \n",
    "\n",
    "Use the internet to research the \"bag of words\" Representation and then answer the following questions. A simple web search should reveal some useful information. If you don't know the answer to any question, feel free to go back and do some more research before finished the quiz. \n",
    "\n",
    "Firstly, what type of data does \"bag of words\" represent?"
   ]
  },
  {
   "cell_type": "markdown",
   "id": "e8ac4525",
   "metadata": {},
   "source": [
    "ANS: Written Text"
   ]
  },
  {
   "cell_type": "markdown",
   "id": "8cc6c13f",
   "metadata": {},
   "source": [
    "Question 2\n",
    "\n",
    "The bag of words representation ignores the order of the words in a text"
   ]
  },
  {
   "cell_type": "markdown",
   "id": "86a828a9",
   "metadata": {},
   "source": [
    "TRUE"
   ]
  },
  {
   "cell_type": "markdown",
   "id": "3e2ae4e9",
   "metadata": {},
   "source": [
    "Question 3\n",
    "\n",
    "The bag of words representation ignores the number of times a word appears in a text"
   ]
  },
  {
   "cell_type": "markdown",
   "id": "633c45db",
   "metadata": {},
   "source": [
    "FALSE"
   ]
  },
  {
   "cell_type": "markdown",
   "id": "e30d7321",
   "metadata": {},
   "source": [
    "Question 4\n",
    "\n",
    "How many numbers are used to represent a piece of text"
   ]
  },
  {
   "cell_type": "markdown",
   "id": "23360f64",
   "metadata": {},
   "source": [
    "One for every unique word (i.e. not including repeats)"
   ]
  },
  {
   "cell_type": "markdown",
   "id": "f6107572",
   "metadata": {},
   "source": [
    "Question 5\n",
    "\n",
    "What do you think are the advantages and disadvantages of bag of words?"
   ]
  },
  {
   "cell_type": "markdown",
   "id": "b11ab9bb",
   "metadata": {},
   "source": [
    "ANS: The bag-of-words model is very simple to understand and implement and offers a lot of flexibility for customization on your specific text data.\n",
    "\n",
    "The vocabulary requires careful design and Discarding word order ignores the context is not good for large quantity of data."
   ]
  },
  {
   "cell_type": "markdown",
   "id": "be055113",
   "metadata": {},
   "source": [
    "# Lesson 2.3"
   ]
  },
  {
   "cell_type": "markdown",
   "id": "859779e0",
   "metadata": {},
   "source": [
    "1. What have you learned?"
   ]
  },
  {
   "cell_type": "markdown",
   "id": "b58a5cd3",
   "metadata": {},
   "source": [
    "1. What have you learned about machine learning? How is machine learning different from normal software development?\n",
    "\n",
    "ML is quite interesting if we look at broad scale. if we has lot of data then the accuracy of output will be close to perfect. normal software development  generally follow sets of instructions but ML learns from the data to perfect itself.\n",
    "\n",
    "2. What questions do you still have?\n",
    "\n",
    "If we give enough data will ML can predicts future or will ML will be capable of finding the solutions for problems which is not possible like cure of cancer or somthing. we are limited to science so we cant possibly see every possibility of problems but is it possible for ML to comes with answer which are unexpected but totally possible."
   ]
  },
  {
   "cell_type": "markdown",
   "id": "6eb50d8c",
   "metadata": {},
   "source": [
    "2. Data Features Summative Quiz"
   ]
  },
  {
   "cell_type": "markdown",
   "id": "c963b13c",
   "metadata": {},
   "source": [
    "Question 1\n",
    "\n",
    "Modern deep neural networks work well because:"
   ]
  },
  {
   "cell_type": "markdown",
   "id": "86c4f46a",
   "metadata": {},
   "source": [
    "They can scale up to very large amounts of data"
   ]
  },
  {
   "cell_type": "markdown",
   "id": "9e411ce9",
   "metadata": {},
   "source": [
    "Question 2\n",
    "\n",
    "What is the output of a regression?"
   ]
  },
  {
   "cell_type": "markdown",
   "id": "3268db70",
   "metadata": {},
   "source": [
    "One or more numbers "
   ]
  },
  {
   "cell_type": "markdown",
   "id": "12945c79",
   "metadata": {},
   "source": [
    "Question 3\n",
    "\n",
    "The feature representation you use has no effect in k-nearest neighbour because it is based on similarity?"
   ]
  },
  {
   "cell_type": "markdown",
   "id": "309b6e6a",
   "metadata": {},
   "source": [
    "FALSE"
   ]
  },
  {
   "cell_type": "markdown",
   "id": "131559eb",
   "metadata": {},
   "source": [
    "Question 4\n",
    "\n",
    "Which of these is true?"
   ]
  },
  {
   "cell_type": "markdown",
   "id": "401416f6",
   "metadata": {},
   "source": [
    "If you are using low level features you will need more training data than if you are using high level features"
   ]
  },
  {
   "cell_type": "markdown",
   "id": "b2c7d118",
   "metadata": {},
   "source": [
    "Question 5\n",
    "\n",
    "Which do you typically think need more disc space?"
   ]
  },
  {
   "cell_type": "markdown",
   "id": "84be169d",
   "metadata": {},
   "source": [
    "Low level features"
   ]
  }
 ],
 "metadata": {
  "kernelspec": {
   "display_name": "Python 3",
   "language": "python",
   "name": "python3"
  },
  "language_info": {
   "codemirror_mode": {
    "name": "ipython",
    "version": 3
   },
   "file_extension": ".py",
   "mimetype": "text/x-python",
   "name": "python",
   "nbconvert_exporter": "python",
   "pygments_lexer": "ipython3",
   "version": "3.8.8"
  }
 },
 "nbformat": 4,
 "nbformat_minor": 5
}
