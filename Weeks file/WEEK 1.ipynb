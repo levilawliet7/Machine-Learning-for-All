{
 "cells": [
  {
   "cell_type": "markdown",
   "id": "c2101705",
   "metadata": {},
   "source": [
    "# Lesson 1.0"
   ]
  },
  {
   "cell_type": "markdown",
   "id": "61dc29d7",
   "metadata": {},
   "source": [
    "1. What do you think it is about computer vision that makes it hard for computers? How are they different from people? How could computers learn to see in the same way as people? Write a short answer to these questions based on what you already know, so that you can start thinking about the issues we will cover in this course."
   ]
  },
  {
   "cell_type": "markdown",
   "id": "dd81d250",
   "metadata": {},
   "source": [
    "Computers generally follows sets of instructions. So basically they cant think like us or view like us, they follow the conditions which was placed to them. For example they can recognize the 2 fingers if pointed out because they knows the position only so they cant tell if its male or female or any difference. Its hard for computers vision to process every single details.\n"
   ]
  },
  {
   "cell_type": "markdown",
   "id": "a8ab5009",
   "metadata": {},
   "source": [
    "2. What is AI?"
   ]
  },
  {
   "cell_type": "markdown",
   "id": "5619dc04",
   "metadata": {},
   "source": [
    "Artificial Intelligence or AI this means that computer or machine is learning and reacting to it's environment, just like we living animals react to our environment but here difference is that this machine learning will be man made not natural and it will always lacks those quality which exist in living beings."
   ]
  },
  {
   "cell_type": "markdown",
   "id": "5526dc0b",
   "metadata": {},
   "source": [
    "# Lesson 1.1"
   ]
  },
  {
   "cell_type": "markdown",
   "id": "8d405da3",
   "metadata": {},
   "source": [
    "1. What makes AI hard?"
   ]
  },
  {
   "cell_type": "markdown",
   "id": "4c65b4a6",
   "metadata": {},
   "source": [
    "AI have numbers of problems in different fields. Lets say giving logical work like, I asked to play popular song of Taylor swift but for computer all of her songs are her and good but i dont like them. I wanted AI to play specific song which was popular at while ago but it didnt know which one is so AI cant make decisons on its own. Similar example is buying as it cant decide which one is more preferable to buy specific item."
   ]
  },
  {
   "cell_type": "markdown",
   "id": "96a7b89e",
   "metadata": {},
   "source": [
    "2. In this quiz I would like you to do some independent research about a high profile area of AI: playing games. One of the achievements of AI in recent years has been Alpha Go: software that beat a world champion at the game Go. I would like you to research two important game playing programmes: IBM Deep Blue and Alpha Go and how they are different. Then answer the following questions. A simple web search should reveal some useful information. If you don't know the answer to any question, feel free to go back and do some more research before finished the quiz. Firstly, what game was Deep Blue famous for playing?"
   ]
  },
  {
   "cell_type": "markdown",
   "id": "2664cc0a",
   "metadata": {},
   "source": [
    "chess"
   ]
  },
  {
   "cell_type": "markdown",
   "id": "47afca45",
   "metadata": {},
   "source": [
    "3. Since his defeat by Deep Blue, Garry Kasparov has championed \"Advanced Chess\". What is that?"
   ]
  },
  {
   "cell_type": "markdown",
   "id": "e08b0da2",
   "metadata": {},
   "source": [
    "Human players working with computer to play standard chess"
   ]
  },
  {
   "cell_type": "markdown",
   "id": "804fa3be",
   "metadata": {},
   "source": [
    "4. Why is the game Go considered much harder than chess for computers?"
   ]
  },
  {
   "cell_type": "markdown",
   "id": "017cf546",
   "metadata": {},
   "source": [
    "The number of possible variations of a Go game is much larger"
   ]
  },
  {
   "cell_type": "markdown",
   "id": "7df1a22f",
   "metadata": {},
   "source": [
    "5. What AI method does Alpha Go use?"
   ]
  },
  {
   "cell_type": "markdown",
   "id": "958a4632",
   "metadata": {},
   "source": [
    "Neural networks"
   ]
  },
  {
   "cell_type": "markdown",
   "id": "d8a8544f",
   "metadata": {},
   "source": [
    "6. Why was Alpha Go able to play Go so well?"
   ]
  },
  {
   "cell_type": "markdown",
   "id": "1e425846",
   "metadata": {},
   "source": [
    "It \"learned\" to play from famous games and playing against itself."
   ]
  },
  {
   "cell_type": "markdown",
   "id": "4748ff97",
   "metadata": {},
   "source": [
    "# Lesson 1.2"
   ]
  },
  {
   "cell_type": "markdown",
   "id": "41d564e1",
   "metadata": {},
   "source": [
    "1. How did you find machine learning?"
   ]
  },
  {
   "cell_type": "markdown",
   "id": "66896edb",
   "metadata": {},
   "source": [
    "Its mostly gave right answers. I am suprised it was able to optimize data that fastly."
   ]
  },
  {
   "cell_type": "markdown",
   "id": "c34035e7",
   "metadata": {},
   "source": [
    "# Lesson 1.3"
   ]
  },
  {
   "cell_type": "markdown",
   "id": "b3713d0b",
   "metadata": {},
   "source": [
    "1. Machine Learning means..."
   ]
  },
  {
   "cell_type": "markdown",
   "id": "862f2593",
   "metadata": {},
   "source": [
    "Training a statistical model based on example data"
   ]
  },
  {
   "cell_type": "markdown",
   "id": "33b68cc0",
   "metadata": {},
   "source": [
    "2. What is the input to a classifier?"
   ]
  },
  {
   "cell_type": "markdown",
   "id": "94f9936d",
   "metadata": {},
   "source": [
    "Anything that can be represented on a computer"
   ]
  },
  {
   "cell_type": "markdown",
   "id": "2e50b4e7",
   "metadata": {},
   "source": [
    "3. Which of these is the hardest challenge for AI?"
   ]
  },
  {
   "cell_type": "markdown",
   "id": "13c77309",
   "metadata": {},
   "source": [
    "Recognising road signs"
   ]
  },
  {
   "cell_type": "markdown",
   "id": "20f7ab95",
   "metadata": {},
   "source": [
    "4. The big improvement in machine learning in recent years has been due to:"
   ]
  },
  {
   "cell_type": "markdown",
   "id": "f77bf1f5",
   "metadata": {},
   "source": [
    "Massive increases in the amount of data available"
   ]
  },
  {
   "cell_type": "markdown",
   "id": "34fb90fe",
   "metadata": {},
   "source": [
    "5. To train a machine learning model to recognise words from audio recordings of speech your data would be:"
   ]
  },
  {
   "cell_type": "markdown",
   "id": "43feefcf",
   "metadata": {},
   "source": [
    "Both audio of speech and the corresponding written words"
   ]
  },
  {
   "cell_type": "markdown",
   "id": "6c590d59",
   "metadata": {},
   "source": [
    "# A machine learning application"
   ]
  },
  {
   "cell_type": "markdown",
   "id": "21cfde57",
   "metadata": {},
   "source": [
    "1. Describe the problem or application area?"
   ]
  },
  {
   "cell_type": "markdown",
   "id": "e3aebade",
   "metadata": {},
   "source": [
    "The most problematic area is to mimic human mind or to trained them to be responsive with unique ideas."
   ]
  },
  {
   "cell_type": "markdown",
   "id": "bad1a449",
   "metadata": {},
   "source": [
    "2. Why is it hard for computers and why is it easier to solve for machine learning"
   ]
  },
  {
   "cell_type": "markdown",
   "id": "192ad829",
   "metadata": {},
   "source": [
    "There can be limited set of instructions but using machine learning eliminate this problems."
   ]
  },
  {
   "cell_type": "markdown",
   "id": "7c250170",
   "metadata": {},
   "source": [
    "3. What data would be used as input to the machine learning algorithms?"
   ]
  },
  {
   "cell_type": "markdown",
   "id": "57f08bb2",
   "metadata": {},
   "source": [
    "Its depends on the area but the more data the more accuracy. "
   ]
  },
  {
   "cell_type": "markdown",
   "id": "3b7cd5eb",
   "metadata": {},
   "source": [
    "4. How is machine learning different from a conventional software development approach to this problem?"
   ]
  },
  {
   "cell_type": "markdown",
   "id": "fbf873a5",
   "metadata": {},
   "source": [
    "Software development performs sets of algorithm while ML learns from the data's to improve itself."
   ]
  }
 ],
 "metadata": {
  "kernelspec": {
   "display_name": "Python 3",
   "language": "python",
   "name": "python3"
  },
  "language_info": {
   "codemirror_mode": {
    "name": "ipython",
    "version": 3
   },
   "file_extension": ".py",
   "mimetype": "text/x-python",
   "name": "python",
   "nbconvert_exporter": "python",
   "pygments_lexer": "ipython3",
   "version": "3.8.8"
  }
 },
 "nbformat": 4,
 "nbformat_minor": 5
}
