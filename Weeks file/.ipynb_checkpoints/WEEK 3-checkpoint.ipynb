{
 "cells": [
  {
   "cell_type": "markdown",
   "id": "4d8c9584",
   "metadata": {},
   "source": [
    "# Lesson 3.1"
   ]
  },
  {
   "cell_type": "markdown",
   "id": "fba6c991",
   "metadata": {},
   "source": [
    "1. How does machine learning go wrong?"
   ]
  },
  {
   "cell_type": "markdown",
   "id": "bbb6b11c",
   "metadata": {},
   "source": [
    "It was datasets 3 which caused the problems. The main problems was it didn't recognized the difference between similar persons. If we put lot of data with less diffecence then the result will be bad. There are two ways to fix the datasets in my opinion, adding some more alogorithm for most of things and adding more similar and unique data to get correct answers."
   ]
  },
  {
   "cell_type": "markdown",
   "id": "4d8face2",
   "metadata": {},
   "source": [
    "# Lesson 3.2"
   ]
  },
  {
   "cell_type": "markdown",
   "id": "0455cd89",
   "metadata": {},
   "source": [
    "1. Applications of machine learning"
   ]
  },
  {
   "cell_type": "markdown",
   "id": "6147e119",
   "metadata": {},
   "source": [
    "The machine learning are I am most excited about is AI and nanotech. Humans have limits on their own but what if we implment ML on nanotechnology and came up with solutions which isn't possible by humans alone. For example if we can use ML for people who are disabled person or people who lost the human part which can be replaced with AI robotics parts. It can be used in different field too like medication."
   ]
  },
  {
   "cell_type": "markdown",
   "id": "55f5615b",
   "metadata": {},
   "source": [
    "2. Dangers of machine learning"
   ]
  },
  {
   "cell_type": "markdown",
   "id": "16d6ee59",
   "metadata": {},
   "source": [
    "I think ML is not the problem but the reason it was made for. if we made for face recognization then its fine but if we made same but little different like recognize face and says you are fool then it will be problems. Ofcourse the data set/model will be problem but the main problem will be reason to exist. Not everyon has good intensions."
   ]
  },
  {
   "cell_type": "markdown",
   "id": "6e5da58e",
   "metadata": {},
   "source": [
    "# Lesson 3.3"
   ]
  },
  {
   "cell_type": "markdown",
   "id": "6b16268c",
   "metadata": {},
   "source": [
    "1. What have you learned?"
   ]
  },
  {
   "cell_type": "markdown",
   "id": "61861d15",
   "metadata": {},
   "source": [
    "What have you learned about machine learning? What do you need to \n",
    "know to do machine learning in practice? How can you do machine learning\n",
    "ethically?\n",
    "\n",
    "ML is very interesting tool. It can be used in various kind of fields. ML can solve many problems that we can't solve on our own and makes things difficult things easy. We need good data to use practically with lots of organized algorithm. We can use it as ethically by giving revelant data and by utlising in good ways."
   ]
  },
  {
   "cell_type": "markdown",
   "id": "34f55ca7",
   "metadata": {},
   "source": [
    "2. Machine Learning in Practice Summative Quiz"
   ]
  },
  {
   "cell_type": "markdown",
   "id": "31540847",
   "metadata": {},
   "source": [
    "Question 1\n",
    "\n",
    "Why is Google very successful at Machine Learning?"
   ]
  },
  {
   "cell_type": "markdown",
   "id": "a5e4f903",
   "metadata": {},
   "source": [
    "They have more data than other companies"
   ]
  },
  {
   "cell_type": "markdown",
   "id": "c38f6710",
   "metadata": {},
   "source": [
    "Question 2\n",
    "\n",
    "In machine learning, your testing set should be:"
   ]
  },
  {
   "cell_type": "markdown",
   "id": "8ede0f1d",
   "metadata": {},
   "source": [
    "Examples that are not in your training set but similar to the examples in your training set"
   ]
  },
  {
   "cell_type": "markdown",
   "id": "9afb54d1",
   "metadata": {},
   "source": [
    "Question 3\n",
    "\n",
    "Neural networks risk being \"Weapons of Math Destruction\" because..."
   ]
  },
  {
   "cell_type": "markdown",
   "id": "b005ec64",
   "metadata": {},
   "source": [
    "They can be hard to understand"
   ]
  },
  {
   "cell_type": "markdown",
   "id": "76199729",
   "metadata": {},
   "source": [
    "Question 4\n",
    "\n",
    "Why is it important to keep testing and training sets separate?"
   ]
  },
  {
   "cell_type": "markdown",
   "id": "b6ad9a8d",
   "metadata": {},
   "source": [
    "The algorithm might learn irrelevant features in the training set"
   ]
  },
  {
   "cell_type": "markdown",
   "id": "14bdf904",
   "metadata": {},
   "source": [
    "Question 5\n",
    "\n",
    "What is the best way of eliminating bias in machine learning?"
   ]
  },
  {
   "cell_type": "markdown",
   "id": "56632fe0",
   "metadata": {},
   "source": [
    "Have as many diverse people as possible involved in collecting data and training machine learning algorithms"
   ]
  }
 ],
 "metadata": {
  "kernelspec": {
   "display_name": "Python 3",
   "language": "python",
   "name": "python3"
  },
  "language_info": {
   "codemirror_mode": {
    "name": "ipython",
    "version": 3
   },
   "file_extension": ".py",
   "mimetype": "text/x-python",
   "name": "python",
   "nbconvert_exporter": "python",
   "pygments_lexer": "ipython3",
   "version": "3.8.8"
  }
 },
 "nbformat": 4,
 "nbformat_minor": 5
}
