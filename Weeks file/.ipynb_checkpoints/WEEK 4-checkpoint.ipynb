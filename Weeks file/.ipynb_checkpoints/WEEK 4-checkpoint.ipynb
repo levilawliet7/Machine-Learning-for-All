{
 "cells": [
  {
   "cell_type": "markdown",
   "id": "2b649f2c",
   "metadata": {},
   "source": [
    "# Lesson 4.0"
   ]
  },
  {
   "cell_type": "markdown",
   "id": "6e4a8e61",
   "metadata": {},
   "source": [
    "1. Your machine learning project"
   ]
  },
  {
   "cell_type": "markdown",
   "id": "39bf0e54",
   "metadata": {},
   "source": [
    "maybe language, images, songs"
   ]
  },
  {
   "cell_type": "markdown",
   "id": "fb40080e",
   "metadata": {},
   "source": [
    "# Lesson 4.1"
   ]
  },
  {
   "cell_type": "markdown",
   "id": "2366ad54",
   "metadata": {},
   "source": [
    "1. Preparing for your machine learning project"
   ]
  },
  {
   "cell_type": "markdown",
   "id": "13fb23e9",
   "metadata": {},
   "source": [
    "Question 1\n",
    "\n",
    "Make a list of the things you need to think about before starting your machine learning project. "
   ]
  },
  {
   "cell_type": "markdown",
   "id": "8e32a4c2",
   "metadata": {},
   "source": [
    "1.topic for ML and algorithm regarding it.\n",
    "2.lots of data regarding it.\n",
    "3.testing with different data\n",
    "4.algorithm improvement."
   ]
  },
  {
   "cell_type": "markdown",
   "id": "bcb5f325",
   "metadata": {},
   "source": [
    "2. Advice on data collection"
   ]
  },
  {
   "cell_type": "markdown",
   "id": "fed350d2",
   "metadata": {},
   "source": [
    "The most important is topic which data should be gathered. then the different data itself. Atleast data which are relevant to the project with different variations to train ML."
   ]
  },
  {
   "cell_type": "markdown",
   "id": "1720df4e",
   "metadata": {},
   "source": [
    "# 3. Peer-graded Assignment: Reflecting on Your Machine Learning Project"
   ]
  },
  {
   "cell_type": "markdown",
   "id": "93709004",
   "metadata": {},
   "source": [
    "Describe your machine learning project, in terms of the following:\n",
    "\n",
    "    1. What problem were you trying to solve?\n",
    "    2. What data did you collect?\n",
    "    3. What classes did you use to classify your data, and why they were chosen?\n",
    "\n",
    "Trying to build a model to classify different shapes with different colour.\n",
    "\n",
    "Data used were all sorts of different shapes like circles, rectangle and triangles. Some of them were out different distortated shapes for testing.\n",
    "\n",
    "The classification was to put similar shapes in one category. I used different coloured filled shapes too for testing purpose."
   ]
  },
  {
   "cell_type": "markdown",
   "id": "06cdfc3f",
   "metadata": {},
   "source": [
    "This part of the question is about evaluating your project, in terms of the following:\n",
    "\n",
    "    1. How well did your classifier work? Were you happy with the results? What was the overall percentage accuracy on test data?\n",
    "    2. Describe what types of images your models classifies well and which they classify badly.\n",
    "    3. Explain why you think it performed well or badly on the images you described in the last part. \n",
    "    4. Were there problems with the classifier that you were able to solve? Describe your strategy for solving the problem \n",
    "\n",
    "The classifier worked pretty well with training data like almost 80% while the accuracy for testing data was 80 to 85%. The result were good but there need more improvement.\n",
    "\n",
    "If the data are circular then its worked pretty well but when used with colour the model failed to put them into right category.\n",
    "\n",
    "The reason it performed badly on the images because of colours. Most of time it performed well but when shapes used with colours it wasn't able to differentiate between shapes and colour. And due to that it placed the wrong shapes into wrong category. similar things happened with distortated shapes too.\n",
    "\n",
    "yes i was able to solve the issue but its need improvement. My strategy was to make a new category for distortated shapes and for colours i used lots of data to train the model and its worked quite well. "
   ]
  },
  {
   "cell_type": "markdown",
   "id": "46aa1ea6",
   "metadata": {},
   "source": [
    "# Lesson 4.2"
   ]
  },
  {
   "cell_type": "markdown",
   "id": "c79f3c65",
   "metadata": {},
   "source": [
    "1. What have you learned?"
   ]
  },
  {
   "cell_type": "markdown",
   "id": "d90e8314",
   "metadata": {},
   "source": [
    "Machine Learning is a great way to makes things easier to do. As long as we have lots of data the ML will be accurate. Most important things is what data is used. We can put lots of data but the good data will always gives us more accuracy. \n",
    "\n",
    "There are some questions i have but most important are Is there any ways to evaluate ML answers. If lots of data are put into model then is it possible to still evaluate the answers and logic behind the decisions made by ML."
   ]
  },
  {
   "cell_type": "code",
   "execution_count": null,
   "id": "84e99c9c",
   "metadata": {},
   "outputs": [],
   "source": []
  }
 ],
 "metadata": {
  "kernelspec": {
   "display_name": "Python 3",
   "language": "python",
   "name": "python3"
  },
  "language_info": {
   "codemirror_mode": {
    "name": "ipython",
    "version": 3
   },
   "file_extension": ".py",
   "mimetype": "text/x-python",
   "name": "python",
   "nbconvert_exporter": "python",
   "pygments_lexer": "ipython3",
   "version": "3.8.8"
  }
 },
 "nbformat": 4,
 "nbformat_minor": 5
}
